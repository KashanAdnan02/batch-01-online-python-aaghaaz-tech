{
 "cells": [
  {
   "cell_type": "code",
   "execution_count": 7,
   "id": "b028d645-49cc-4c0c-a075-f0913aebd81e",
   "metadata": {},
   "outputs": [
    {
     "name": "stdout",
     "output_type": "stream",
     "text": [
      "Hello World\n"
     ]
    }
   ],
   "source": [
    "print('Hello World')"
   ]
  },
  {
   "cell_type": "code",
   "execution_count": 9,
   "id": "fc7519bc-457c-49df-bbc0-0e0002cde932",
   "metadata": {},
   "outputs": [
    {
     "name": "stdout",
     "output_type": "stream",
     "text": [
      "KASHAN\n"
     ]
    }
   ],
   "source": [
    "print(\"KASHAN\")"
   ]
  },
  {
   "cell_type": "code",
   "execution_count": null,
   "id": "2a082829-ca01-4d7d-8241-12281d162964",
   "metadata": {},
   "outputs": [],
   "source": []
  },
  {
   "cell_type": "code",
   "execution_count": 28,
   "id": "d80efe2a-77e8-474b-9d19-33ce0a4609ee",
   "metadata": {},
   "outputs": [],
   "source": [
    "name = \"Kashan\""
   ]
  },
  {
   "cell_type": "code",
   "execution_count": 35,
   "id": "ab79a360-5b11-4670-872a-fb482df6f4a5",
   "metadata": {},
   "outputs": [
    {
     "data": {
      "text/plain": [
       "'Kashan'"
      ]
     },
     "execution_count": 35,
     "metadata": {},
     "output_type": "execute_result"
    }
   ],
   "source": [
    "name"
   ]
  },
  {
   "cell_type": "code",
   "execution_count": 6,
   "id": "b0ecc193-e0ff-428b-8def-979e0c33c194",
   "metadata": {},
   "outputs": [
    {
     "name": "stdout",
     "output_type": "stream",
     "text": [
      "Kashan\n"
     ]
    }
   ],
   "source": [
    "print(\"Kashan\")"
   ]
  },
  {
   "cell_type": "markdown",
   "id": "53e6a027-c209-4676-92be-7887d2698de8",
   "metadata": {},
   "source": [
    "# Variables"
   ]
  },
  {
   "cell_type": "code",
   "execution_count": 11,
   "id": "54e2dd6b-0ab8-4ee9-92d2-6b490163fb5f",
   "metadata": {},
   "outputs": [],
   "source": [
    "num = 10.93"
   ]
  },
  {
   "cell_type": "code",
   "execution_count": 19,
   "id": "7c372613-e497-4e1f-bd61-0943a1a6129c",
   "metadata": {},
   "outputs": [
    {
     "data": {
      "text/plain": [
       "0.9"
      ]
     },
     "execution_count": 19,
     "metadata": {},
     "output_type": "execute_result"
    }
   ],
   "source": [
    "num = 9 / 10\n",
    "\n",
    "num"
   ]
  },
  {
   "cell_type": "code",
   "execution_count": null,
   "id": "560eb616-c9f8-4b4b-8bda-0b154d45d3d1",
   "metadata": {},
   "outputs": [],
   "source": []
  }
 ],
 "metadata": {
  "kernelspec": {
   "display_name": "Python 3 (ipykernel)",
   "language": "python",
   "name": "python3"
  },
  "language_info": {
   "codemirror_mode": {
    "name": "ipython",
    "version": 3
   },
   "file_extension": ".py",
   "mimetype": "text/x-python",
   "name": "python",
   "nbconvert_exporter": "python",
   "pygments_lexer": "ipython3",
   "version": "3.12.7"
  }
 },
 "nbformat": 4,
 "nbformat_minor": 5
}
